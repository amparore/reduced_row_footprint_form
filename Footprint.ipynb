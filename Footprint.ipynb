{
 "cells": [
  {
   "cell_type": "code",
   "execution_count": 6,
   "id": "914724f7",
   "metadata": {},
   "outputs": [],
   "source": [
    "import numpy as np\n",
    "import math"
   ]
  },
  {
   "cell_type": "code",
   "execution_count": 69,
   "id": "c4b489c2",
   "metadata": {},
   "outputs": [],
   "source": [
    "def leading(row):\n",
    "    for i,v in enumerate(row):\n",
    "        if v != 0:\n",
    "            return i\n",
    "    return -1\n",
    "\n",
    "#----------------------------------------------------------------------------------\n",
    "def trailing(row):\n",
    "    for i,v in reversed(list(enumerate(row))):\n",
    "        if v != 0:\n",
    "            return i\n",
    "    return -1\n",
    "\n",
    "#----------------------------------------------------------------------------------\n",
    "def is_negative(i):\n",
    "    return i<0\n",
    "\n",
    "#----------------------------------------------------------------------------------\n",
    "# GCD of a python list. Note that in Python math.gcd(x,0) == x\n",
    "def gcd_list_abs(lst, i=0):\n",
    "    if i==len(lst):  \n",
    "        return 0\n",
    "    return math.gcd(abs(lst[i]), gcd_list_abs(lst, i+1))\n",
    "    \n",
    "#----------------------------------------------------------------------------------\n",
    "def canonicalize(row):\n",
    "    if np.count_nonzero(row) > 0:\n",
    "        l = leading(row)\n",
    "        row = -row if row[l] < 0 else row\n",
    "        row = row / gcd_list_abs(row)\n",
    "    return row\n",
    "\n",
    "#----------------------------------------------------------------------------------\n",
    "# replace row i with a linear combination of both row i and k s.t. B[i,j] becomes 0\n",
    "def annul_column(B, i, k, j):\n",
    "    assert B[i,j] != 0 and B[k,j] != 0\n",
    "    mult_k = abs(B[i,j])\n",
    "    mult_i = abs(B[k,j])\n",
    "    gcd_ik = math.gcd(mult_k, mult_i)\n",
    "    mult_k /= gcd_ik\n",
    "    mult_i /= gcd_ik\n",
    "    # ensure opposing signs\n",
    "    if is_negative(B[i,j]) == is_negative(B[k,j]):\n",
    "        mult_k = -mult_k\n",
    "    # Sum and verify that B[i,j] is 0\n",
    "    B[i,:] = mult_k * B[k,:] + mult_i * B[i,:]\n",
    "    assert B[i,j] == 0, repr(B[i,j])\n",
    "    # canonicalize\n",
    "    B[i,:] = canonicalize(B[i,:])\n",
    "    \n",
    "#----------------------------------------------------------------------------------\n",
    "# reduced row footprint form\n",
    "def rrff(A): \n",
    "    B = np.copy(A)\n",
    "    for k in range(len(B)):\n",
    "        # Find the k-th pivot row\n",
    "        i_max = k\n",
    "        for i in range(k, len(B)):\n",
    "            if (np.count_nonzero(B[i_max,:]) == 0 or\n",
    "                (np.count_nonzero(B[i,:]) > 0 and\n",
    "                 leading(B[i,:]) < leading(B[i_max,:]))):\n",
    "                i_max = i\n",
    "        #  Move the pivot in position k\n",
    "        if k != i_max: # swap pivot row with row k\n",
    "            B[k,:], B[i_max,:] = B[i_max,:], B[k,:]\n",
    "        # Annul column j0 to all the rows below the pivot (row k)\n",
    "        if np.count_nonzero(B[k,:]) > 0:\n",
    "            j0 = leading(B[k,:])\n",
    "            for i in range(k+1, len(B)): # Get into a row-echelon form\n",
    "                if B[i,j0] != 0:\n",
    "                    annul_column(B, i, k, j0)\n",
    "    # Step 2: Find row-trailing entries and annul all entries above each of them. \n",
    "    for k in reversed(range(len(B))):\n",
    "        # Annul the last column of B[k] to all the rows above the pivot row k\n",
    "        if np.count_nonzero(B[k,:]) > 0:\n",
    "            jN = trailing(B[k,:])\n",
    "            for i in reversed(range(k)): # get into footprint form\n",
    "                if B[i,jN] != 0:\n",
    "                    annul_column(B, i, k, jN)\n",
    "    return B\n",
    "\n",
    "# tabulate matrix, highlighting the footprint form.\n",
    "def tab(A):\n",
    "    for row in range(A.shape[0]):\n",
    "        lead, trail = leading(A[row,:]), trailing(A[row,:])\n",
    "        for col in range(A.shape[1]):\n",
    "            if A[row,col]!=0: #  lead <= col <= trail: \n",
    "                print('%4d' % A[row,col], end='')\n",
    "            elif lead < col < trail:\n",
    "                print('   0', end='')                \n",
    "            else:\n",
    "                print('   .', end='')\n",
    "        print()"
   ]
  },
  {
   "cell_type": "code",
   "execution_count": 70,
   "id": "60c4dd37",
   "metadata": {},
   "outputs": [
    {
     "name": "stdout",
     "output_type": "stream",
     "text": [
      "   1  -1  -1   .   .   .   .\n",
      "   .   1   1   1   0   0   1\n",
      "   .   .   .   1  -1  -1   .\n",
      "   .   .   .   .   .   .   .\n"
     ]
    }
   ],
   "source": [
    "A = np.array([\n",
    "    [ 1,  0,  0,  1,  0,  0,  1],\n",
    "    [ 1,  0,  0,  0,  1,  1,  1],\n",
    "    [ 0,  1,  1,  1,  0,  0,  1],\n",
    "    [ 0,  1,  1,  0,  1,  1,  1]\n",
    "])\n",
    "\n",
    "tab(rrff(A))"
   ]
  },
  {
   "cell_type": "code",
   "execution_count": 71,
   "id": "39631b86",
   "metadata": {},
   "outputs": [
    {
     "name": "stdout",
     "output_type": "stream",
     "text": [
      "  15  -2  -2   5   .   .   .\n",
      "   .   7   4  -1   3   9   .\n",
      "   .   .   2   3  -2  -6   7\n",
      "   .   .   .   .   .   .   .\n"
     ]
    }
   ],
   "source": [
    "A = np.array([\n",
    "    [ 5,  0,  0,  2,  0,  0,  1],\n",
    "    [ 1,  0,  0,  0,  1,  2,  1],\n",
    "    [ 0,  2,  2,  1,  0,  0,  3],\n",
    "    [ 0,  3,  2,  0,  1,  3,  1]\n",
    "])\n",
    "\n",
    "tab(rrff(A))"
   ]
  },
  {
   "cell_type": "code",
   "execution_count": null,
   "id": "80d30f0e",
   "metadata": {},
   "outputs": [],
   "source": []
  }
 ],
 "metadata": {
  "kernelspec": {
   "display_name": "Python 3 (ipykernel)",
   "language": "python",
   "name": "python3"
  },
  "language_info": {
   "codemirror_mode": {
    "name": "ipython",
    "version": 3
   },
   "file_extension": ".py",
   "mimetype": "text/x-python",
   "name": "python",
   "nbconvert_exporter": "python",
   "pygments_lexer": "ipython3",
   "version": "3.8.10"
  }
 },
 "nbformat": 4,
 "nbformat_minor": 5
}
